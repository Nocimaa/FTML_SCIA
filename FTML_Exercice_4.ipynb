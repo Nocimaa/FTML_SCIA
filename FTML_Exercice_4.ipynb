{
 "cells": [
  {
   "cell_type": "markdown",
   "id": "2774b49a",
   "metadata": {},
   "source": [
    "## Import des bibliothèques"
   ]
  },
  {
   "cell_type": "code",
   "execution_count": 3,
   "id": "a6b709e4",
   "metadata": {},
   "outputs": [
    {
     "name": "stdout",
     "output_type": "stream",
     "text": [
      "Final model Train R² = 0.9975\n",
      "Final model Test  R² = 0.8861\n"
     ]
    }
   ],
   "source": [
    "import numpy as np\n",
    "from sklearn.pipeline import Pipeline\n",
    "from sklearn.preprocessing import StandardScaler, PolynomialFeatures\n",
    "from sklearn.linear_model import ElasticNet\n",
    "from sklearn.metrics import r2_score\n",
    "import joblib  # optional, for saving the model\n",
    "\n",
    "# 1) Load & flatten data\n",
    "X_train = np.load('datas/X_train.npy')\n",
    "y_train = np.load('datas/y_train.npy').ravel()\n",
    "X_test  = np.load('datas/X_test.npy')\n",
    "y_test  = np.load('datas/y_test.npy').ravel()\n",
    "\n",
    "# 2) Build the final pipeline with the chosen hyperparameters\n",
    "final_pipe = Pipeline([\n",
    "    ('scaler', StandardScaler()),\n",
    "    ('poly',   PolynomialFeatures(degree=2, include_bias=False)),\n",
    "    ('en',     ElasticNet(alpha=0.01, l1_ratio=0.9, random_state=0, max_iter=5000))\n",
    "])\n",
    "\n",
    "# 3) Fit on the entire training set\n",
    "final_pipe.fit(X_train, y_train)\n",
    "\n",
    "# 4) Evaluate performance\n",
    "train_r2 = final_pipe.score(X_train, y_train)\n",
    "test_preds = final_pipe.predict(X_test)\n",
    "test_r2  = r2_score(y_test, test_preds)\n",
    "\n",
    "print(f\"Final model Train R² = {train_r2:.4f}\")\n",
    "print(f\"Final model Test  R² = {test_r2:.4f}\")\n"
   ]
  }
 ],
 "metadata": {
  "kernelspec": {
   "display_name": "venv",
   "language": "python",
   "name": "python3"
  },
  "language_info": {
   "codemirror_mode": {
    "name": "ipython",
    "version": 3
   },
   "file_extension": ".py",
   "mimetype": "text/x-python",
   "name": "python",
   "nbconvert_exporter": "python",
   "pygments_lexer": "ipython3",
   "version": "3.11.2"
  }
 },
 "nbformat": 4,
 "nbformat_minor": 5
}
