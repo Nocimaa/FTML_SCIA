{
 "cells": [
  {
   "cell_type": "markdown",
   "id": "64196d4a",
   "metadata": {},
   "source": [
    "## Import des bibliothèques"
   ]
  },
  {
   "cell_type": "code",
   "execution_count": 18,
   "id": "7e13e7b9",
   "metadata": {},
   "outputs": [],
   "source": [
    "import numpy as np\n",
    "from sklearn.linear_model import LinearRegression\n",
    "from sklearn.metrics import mean_squared_error\n"
   ]
  },
  {
   "cell_type": "markdown",
   "id": "71a7d2d1",
   "metadata": {},
   "source": [
    "## Génération de données synthétiques (fonction Bayesienne)"
   ]
  },
  {
   "cell_type": "code",
   "execution_count": 19,
   "id": "e2bd2f57",
   "metadata": {},
   "outputs": [],
   "source": [
    "np.random.seed(0)\n",
    "n_train = 1000\n",
    "n_test = 500\n",
    "\n",
    "def true_function(x):\n",
    "    return 3 * np.log(x + 1)"
   ]
  },
  {
   "cell_type": "markdown",
   "id": "da709972",
   "metadata": {},
   "source": [
    "## Génération des vitesses de vent (X) et production d'énergie (Y)"
   ]
  },
  {
   "cell_type": "code",
   "execution_count": 20,
   "id": "b3c632fb",
   "metadata": {},
   "outputs": [],
   "source": [
    "X_train = np.random.uniform(0, 20, n_train).reshape(-1, 1)\n",
    "Y_train = true_function(X_train) + np.random.normal(0, 0.5, X_train.shape)\n",
    "\n",
    "X_test = np.random.uniform(0, 20, n_test).reshape(-1, 1)\n",
    "Y_test = true_function(X_test) + np.random.normal(0, 0.5, X_test.shape)"
   ]
  },
  {
   "cell_type": "markdown",
   "id": "50ef7fce",
   "metadata": {},
   "source": [
    "## Estimateur f̃ : régression linéaire"
   ]
  },
  {
   "cell_type": "code",
   "execution_count": 21,
   "id": "2c2edced",
   "metadata": {},
   "outputs": [],
   "source": [
    "linear_model = LinearRegression()\n",
    "linear_model.fit(X_train, Y_train)\n",
    "f_tilde_preds = linear_model.predict(X_test)"
   ]
  },
  {
   "cell_type": "markdown",
   "id": "4cc0241f",
   "metadata": {},
   "source": [
    "## Estimateur f* : prédicteur Bayesien (espérance conditionnelle simulée par true_function)"
   ]
  },
  {
   "cell_type": "code",
   "execution_count": 22,
   "id": "381f760a",
   "metadata": {},
   "outputs": [],
   "source": [
    "f_star_preds = true_function(X_test)"
   ]
  },
  {
   "cell_type": "markdown",
   "id": "c0b479c1",
   "metadata": {},
   "source": [
    "## Calcul des risques empiriques"
   ]
  },
  {
   "cell_type": "code",
   "execution_count": null,
   "id": "98d5980c",
   "metadata": {},
   "outputs": [],
   "source": [
    "risk_f_tilde = mean_squared_error(Y_test, f_tilde_preds)\n",
    "risk_f_star = mean_squared_error(Y_test, f_star_preds)\n",
    "bayes_risk = np.mean((Y_test - f_star_preds)**2)"
   ]
  },
  {
   "cell_type": "markdown",
   "id": "3ffe503c",
   "metadata": {},
   "source": [
    "## Affichage des résultats"
   ]
  },
  {
   "cell_type": "code",
   "execution_count": 24,
   "id": "c259bcce",
   "metadata": {},
   "outputs": [
    {
     "name": "stdout",
     "output_type": "stream",
     "text": [
      "Erreur de généralisation pour f̃ (linéaire) : 0.7334\n",
      "Erreur de généralisation pour f* (Bayesien) : 0.2278\n",
      "Risque de Bayes (approché) : 0.2278\n"
     ]
    }
   ],
   "source": [
    "print(f\"Erreur de généralisation pour f̃ (linéaire) : {risk_f_tilde:.4f}\")\n",
    "print(f\"Erreur de généralisation pour f* (Bayesien) : {risk_f_star:.4f}\")\n",
    "print(f\"Risque de Bayes (approché) : {bayes_risk:.4f}\")"
   ]
  }
 ],
 "metadata": {
  "kernelspec": {
   "display_name": "venv",
   "language": "python",
   "name": "python3"
  },
  "language_info": {
   "codemirror_mode": {
    "name": "ipython",
    "version": 3
   },
   "file_extension": ".py",
   "mimetype": "text/x-python",
   "name": "python",
   "nbconvert_exporter": "python",
   "pygments_lexer": "ipython3",
   "version": "3.11.2"
  }
 },
 "nbformat": 4,
 "nbformat_minor": 5
}
